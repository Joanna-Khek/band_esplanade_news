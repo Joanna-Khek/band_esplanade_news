{
 "cells": [
  {
   "cell_type": "code",
   "execution_count": 1,
   "metadata": {},
   "outputs": [],
   "source": [
    "from sqlalchemy import create_engine \n",
    "from dotenv import load_dotenv\n",
    "import os\n",
    "import pandas as pd\n",
    "import psycopg2\n",
    "\n",
    "load_dotenv()\n",
    "\n",
    "DATABASE_URL = os.getenv(\"DATABASE_URL\")\n",
    "if DATABASE_URL and DATABASE_URL.startswith(\"postgres://\"):\n",
    "    DATABASE_URL = DATABASE_URL.replace(\"postgres://\", \"postgresql://\", 1)\n",
    "    \n",
    "engine = create_engine(DATABASE_URL, echo = False)\n"
   ]
  },
  {
   "cell_type": "code",
   "execution_count": 6,
   "metadata": {},
   "outputs": [
    {
     "data": {
      "text/plain": [
       "42"
      ]
     },
     "execution_count": 6,
     "metadata": {},
     "output_type": "execute_result"
    }
   ],
   "source": [
    "df = pd.read_csv(\"output.csv\", index_col=0)\n",
    "\n",
    "df.to_sql('data', con=engine, if_exists=\"append\")\n"
   ]
  },
  {
   "cell_type": "code",
   "execution_count": 7,
   "metadata": {},
   "outputs": [],
   "source": [
    "query = f\"\"\"SELECT * FROM data\"\"\""
   ]
  },
  {
   "cell_type": "code",
   "execution_count": 8,
   "metadata": {},
   "outputs": [],
   "source": [
    "import psycopg2\n",
    "\n",
    "con = psycopg2.connect(DATABASE_URL)\n",
    "cur = con.cursor()"
   ]
  },
  {
   "cell_type": "code",
   "execution_count": null,
   "metadata": {},
   "outputs": [],
   "source": []
  },
  {
   "cell_type": "code",
   "execution_count": 39,
   "metadata": {},
   "outputs": [],
   "source": [
    "test_data = pd.read_csv(\"output.csv\")"
   ]
  },
  {
   "cell_type": "code",
   "execution_count": 48,
   "metadata": {},
   "outputs": [
    {
     "data": {
      "text/html": [
       "<div>\n",
       "<style scoped>\n",
       "    .dataframe tbody tr th:only-of-type {\n",
       "        vertical-align: middle;\n",
       "    }\n",
       "\n",
       "    .dataframe tbody tr th {\n",
       "        vertical-align: top;\n",
       "    }\n",
       "\n",
       "    .dataframe thead th {\n",
       "        text-align: right;\n",
       "    }\n",
       "</style>\n",
       "<table border=\"1\" class=\"dataframe\">\n",
       "  <thead>\n",
       "    <tr style=\"text-align: right;\">\n",
       "      <th></th>\n",
       "      <th>category</th>\n",
       "      <th>title</th>\n",
       "      <th>link</th>\n",
       "      <th>organiser</th>\n",
       "      <th>date</th>\n",
       "      <th>day</th>\n",
       "      <th>time</th>\n",
       "      <th>address</th>\n",
       "    </tr>\n",
       "  </thead>\n",
       "  <tbody>\n",
       "    <tr>\n",
       "      <th>0</th>\n",
       "      <td>VISUAL ARTS</td>\n",
       "      <td>BreatheWater</td>\n",
       "      <td>https://www.esplanade.com/festivals-and-series...</td>\n",
       "      <td>Parvathi Nayar (India)</td>\n",
       "      <td>25 Mar – 24 Jul 2022</td>\n",
       "      <td>Fri – Sun</td>\n",
       "      <td>All Day</td>\n",
       "      <td>Theatre Street Cones</td>\n",
       "    </tr>\n",
       "  </tbody>\n",
       "</table>\n",
       "</div>"
      ],
      "text/plain": [
       "      category         title  \\\n",
       "0  VISUAL ARTS  BreatheWater   \n",
       "\n",
       "                                                link               organiser  \\\n",
       "0  https://www.esplanade.com/festivals-and-series...  Parvathi Nayar (India)   \n",
       "\n",
       "                   date        day     time               address  \n",
       "0  25 Mar – 24 Jul 2022  Fri – Sun  All Day  Theatre Street Cones  "
      ]
     },
     "execution_count": 48,
     "metadata": {},
     "output_type": "execute_result"
    }
   ],
   "source": [
    "test_data.head(1)"
   ]
  },
  {
   "cell_type": "code",
   "execution_count": 49,
   "metadata": {},
   "outputs": [
    {
     "data": {
      "text/html": [
       "<div>\n",
       "<style scoped>\n",
       "    .dataframe tbody tr th:only-of-type {\n",
       "        vertical-align: middle;\n",
       "    }\n",
       "\n",
       "    .dataframe tbody tr th {\n",
       "        vertical-align: top;\n",
       "    }\n",
       "\n",
       "    .dataframe thead th {\n",
       "        text-align: right;\n",
       "    }\n",
       "</style>\n",
       "<table border=\"1\" class=\"dataframe\">\n",
       "  <thead>\n",
       "    <tr style=\"text-align: right;\">\n",
       "      <th></th>\n",
       "      <th>category</th>\n",
       "      <th>title</th>\n",
       "      <th>link</th>\n",
       "      <th>organiser</th>\n",
       "      <th>date</th>\n",
       "      <th>day</th>\n",
       "      <th>time</th>\n",
       "      <th>address</th>\n",
       "    </tr>\n",
       "  </thead>\n",
       "  <tbody>\n",
       "    <tr>\n",
       "      <th>0</th>\n",
       "      <td>category_test</td>\n",
       "      <td>title_text</td>\n",
       "      <td>link_text</td>\n",
       "      <td>organiser_text</td>\n",
       "      <td>date_text</td>\n",
       "      <td>day_text</td>\n",
       "      <td>time_text</td>\n",
       "      <td>address_text</td>\n",
       "    </tr>\n",
       "  </tbody>\n",
       "</table>\n",
       "</div>"
      ],
      "text/plain": [
       "        category       title       link       organiser       date       day  \\\n",
       "0  category_test  title_text  link_text  organiser_text  date_text  day_text   \n",
       "\n",
       "        time       address  \n",
       "0  time_text  address_text  "
      ]
     },
     "execution_count": 49,
     "metadata": {},
     "output_type": "execute_result"
    }
   ],
   "source": [
    "df.head(1)"
   ]
  },
  {
   "cell_type": "code",
   "execution_count": 50,
   "metadata": {},
   "outputs": [],
   "source": [
    "data_new = pd.concat([test_data, df], axis=0)"
   ]
  },
  {
   "cell_type": "code",
   "execution_count": 52,
   "metadata": {},
   "outputs": [
    {
     "data": {
      "text/html": [
       "<div>\n",
       "<style scoped>\n",
       "    .dataframe tbody tr th:only-of-type {\n",
       "        vertical-align: middle;\n",
       "    }\n",
       "\n",
       "    .dataframe tbody tr th {\n",
       "        vertical-align: top;\n",
       "    }\n",
       "\n",
       "    .dataframe thead th {\n",
       "        text-align: right;\n",
       "    }\n",
       "</style>\n",
       "<table border=\"1\" class=\"dataframe\">\n",
       "  <thead>\n",
       "    <tr style=\"text-align: right;\">\n",
       "      <th></th>\n",
       "      <th>category</th>\n",
       "      <th>title</th>\n",
       "      <th>link</th>\n",
       "      <th>organiser</th>\n",
       "      <th>date</th>\n",
       "      <th>day</th>\n",
       "      <th>time</th>\n",
       "      <th>address</th>\n",
       "    </tr>\n",
       "  </thead>\n",
       "  <tbody>\n",
       "    <tr>\n",
       "      <th>38</th>\n",
       "      <td>THEATRE</td>\n",
       "      <td>Recipes for Wayfinding (Care Index) Installation</td>\n",
       "      <td>https://www.esplanade.com/festivals-and-series...</td>\n",
       "      <td>Alecia Neo (Singapore)</td>\n",
       "      <td>28 Jul – 24 Sep 2022</td>\n",
       "      <td>Thu – Sat</td>\n",
       "      <td>All Day</td>\n",
       "      <td>Esplanade Roof Terrace</td>\n",
       "    </tr>\n",
       "    <tr>\n",
       "      <th>39</th>\n",
       "      <td>THEATRE</td>\n",
       "      <td>In Their Own Words: Writing Verbatim Plays</td>\n",
       "      <td>https://www.esplanade.com/festivals-and-series...</td>\n",
       "      <td>Haresh Sharma (Singapore)</td>\n",
       "      <td>27-Aug-22</td>\n",
       "      <td>Sat</td>\n",
       "      <td>12pm</td>\n",
       "      <td>library@esplanade</td>\n",
       "    </tr>\n",
       "    <tr>\n",
       "      <th>40</th>\n",
       "      <td>THEATRE</td>\n",
       "      <td>Performing Grief</td>\n",
       "      <td>https://www.esplanade.com/festivals-and-series...</td>\n",
       "      <td>Mohd Fared Jainal, Chong Tze Chien, Jolene Chi...</td>\n",
       "      <td>10-Sep-22</td>\n",
       "      <td>Sat</td>\n",
       "      <td>3pm</td>\n",
       "      <td>library@esplanade</td>\n",
       "    </tr>\n",
       "    <tr>\n",
       "      <th>41</th>\n",
       "      <td>THEATRE</td>\n",
       "      <td>In Conversation: And So The Conversations Cont...</td>\n",
       "      <td>https://www.esplanade.com/festivals-and-series...</td>\n",
       "      <td>Checkpoint Theatre (Singapore)</td>\n",
       "      <td>24-Sep-22</td>\n",
       "      <td>Sat</td>\n",
       "      <td>3pm</td>\n",
       "      <td>library@esplanade</td>\n",
       "    </tr>\n",
       "    <tr>\n",
       "      <th>0</th>\n",
       "      <td>category_test</td>\n",
       "      <td>title_text</td>\n",
       "      <td>link_text</td>\n",
       "      <td>organiser_text</td>\n",
       "      <td>date_text</td>\n",
       "      <td>day_text</td>\n",
       "      <td>time_text</td>\n",
       "      <td>address_text</td>\n",
       "    </tr>\n",
       "  </tbody>\n",
       "</table>\n",
       "</div>"
      ],
      "text/plain": [
       "         category                                              title  \\\n",
       "38        THEATRE   Recipes for Wayfinding (Care Index) Installation   \n",
       "39        THEATRE         In Their Own Words: Writing Verbatim Plays   \n",
       "40        THEATRE                                   Performing Grief   \n",
       "41        THEATRE  In Conversation: And So The Conversations Cont...   \n",
       "0   category_test                                         title_text   \n",
       "\n",
       "                                                 link  \\\n",
       "38  https://www.esplanade.com/festivals-and-series...   \n",
       "39  https://www.esplanade.com/festivals-and-series...   \n",
       "40  https://www.esplanade.com/festivals-and-series...   \n",
       "41  https://www.esplanade.com/festivals-and-series...   \n",
       "0                                           link_text   \n",
       "\n",
       "                                            organiser                  date  \\\n",
       "38                             Alecia Neo (Singapore)  28 Jul – 24 Sep 2022   \n",
       "39                          Haresh Sharma (Singapore)             27-Aug-22   \n",
       "40  Mohd Fared Jainal, Chong Tze Chien, Jolene Chi...             10-Sep-22   \n",
       "41                     Checkpoint Theatre (Singapore)             24-Sep-22   \n",
       "0                                      organiser_text             date_text   \n",
       "\n",
       "          day       time                 address  \n",
       "38  Thu – Sat    All Day  Esplanade Roof Terrace  \n",
       "39        Sat       12pm       library@esplanade  \n",
       "40        Sat        3pm       library@esplanade  \n",
       "41        Sat        3pm       library@esplanade  \n",
       "0    day_text  time_text            address_text  "
      ]
     },
     "execution_count": 52,
     "metadata": {},
     "output_type": "execute_result"
    }
   ],
   "source": [
    "data_new.tail()"
   ]
  },
  {
   "cell_type": "code",
   "execution_count": 44,
   "metadata": {},
   "outputs": [],
   "source": [
    "test = [] \n",
    "test.append({'category': \"category_test\",\n",
    "                    'title': 'title_text',\n",
    "                    'link': 'link_text',\n",
    "                    'organiser': 'organiser_text',\n",
    "                    'date': 'date_text',\n",
    "                    'day': 'day_text',\n",
    "                    'time': 'time_text',\n",
    "                    'address': 'address_text'})"
   ]
  },
  {
   "cell_type": "code",
   "execution_count": 45,
   "metadata": {},
   "outputs": [],
   "source": [
    "df = pd.DataFrame(test)"
   ]
  },
  {
   "cell_type": "code",
   "execution_count": 46,
   "metadata": {},
   "outputs": [
    {
     "data": {
      "text/html": [
       "<div>\n",
       "<style scoped>\n",
       "    .dataframe tbody tr th:only-of-type {\n",
       "        vertical-align: middle;\n",
       "    }\n",
       "\n",
       "    .dataframe tbody tr th {\n",
       "        vertical-align: top;\n",
       "    }\n",
       "\n",
       "    .dataframe thead th {\n",
       "        text-align: right;\n",
       "    }\n",
       "</style>\n",
       "<table border=\"1\" class=\"dataframe\">\n",
       "  <thead>\n",
       "    <tr style=\"text-align: right;\">\n",
       "      <th></th>\n",
       "      <th>category</th>\n",
       "      <th>title</th>\n",
       "      <th>link</th>\n",
       "      <th>organiser</th>\n",
       "      <th>date</th>\n",
       "      <th>day</th>\n",
       "      <th>time</th>\n",
       "      <th>address</th>\n",
       "    </tr>\n",
       "  </thead>\n",
       "  <tbody>\n",
       "    <tr>\n",
       "      <th>0</th>\n",
       "      <td>category_test</td>\n",
       "      <td>title_text</td>\n",
       "      <td>link_text</td>\n",
       "      <td>organiser_text</td>\n",
       "      <td>date_text</td>\n",
       "      <td>day_text</td>\n",
       "      <td>time_text</td>\n",
       "      <td>address_text</td>\n",
       "    </tr>\n",
       "  </tbody>\n",
       "</table>\n",
       "</div>"
      ],
      "text/plain": [
       "        category       title       link       organiser       date       day  \\\n",
       "0  category_test  title_text  link_text  organiser_text  date_text  day_text   \n",
       "\n",
       "        time       address  \n",
       "0  time_text  address_text  "
      ]
     },
     "execution_count": 46,
     "metadata": {},
     "output_type": "execute_result"
    }
   ],
   "source": [
    "df"
   ]
  },
  {
   "cell_type": "code",
   "execution_count": 21,
   "metadata": {},
   "outputs": [],
   "source": [
    "def check_update(df, new_titles, con):\n",
    "    query = f\"\"\"SELECT * FROM data\"\"\"\n",
    "    old_title = list(pd.read_sql(query, con).loc[:,\"title\"])\n",
    "    print(\"Number of old titles: {}\".format(len(old_title)))\n",
    "    for title in list(df[\"title\"]):\n",
    "        if title not in old_title:\n",
    "            new_titles.append(title)\n",
    "    print(\"Number of new new titles: {}\".format(len(new_titles)))\n",
    "    return new_titles"
   ]
  },
  {
   "cell_type": "code",
   "execution_count": 54,
   "metadata": {},
   "outputs": [
    {
     "name": "stderr",
     "output_type": "stream",
     "text": [
      "c:\\Users\\joann\\Anaconda3\\envs\\tensorflow-gpu\\lib\\site-packages\\pandas\\io\\sql.py:761: UserWarning: pandas only support SQLAlchemy connectable(engine/connection) ordatabase string URI or sqlite3 DBAPI2 connectionother DBAPI2 objects are not tested, please consider using SQLAlchemy\n",
      "  warnings.warn(\n"
     ]
    },
    {
     "name": "stdout",
     "output_type": "stream",
     "text": [
      "Number of old titles: 42\n",
      "Number of new new titles: 1\n"
     ]
    }
   ],
   "source": [
    "new_titles = []\n",
    "update = check_update(data_new, new_titles, con)"
   ]
  },
  {
   "cell_type": "code",
   "execution_count": 55,
   "metadata": {},
   "outputs": [],
   "source": [
    "df_update = df[df[\"title\"].isin(update)]"
   ]
  },
  {
   "cell_type": "code",
   "execution_count": 56,
   "metadata": {},
   "outputs": [
    {
     "data": {
      "text/html": [
       "<div>\n",
       "<style scoped>\n",
       "    .dataframe tbody tr th:only-of-type {\n",
       "        vertical-align: middle;\n",
       "    }\n",
       "\n",
       "    .dataframe tbody tr th {\n",
       "        vertical-align: top;\n",
       "    }\n",
       "\n",
       "    .dataframe thead th {\n",
       "        text-align: right;\n",
       "    }\n",
       "</style>\n",
       "<table border=\"1\" class=\"dataframe\">\n",
       "  <thead>\n",
       "    <tr style=\"text-align: right;\">\n",
       "      <th></th>\n",
       "      <th>category</th>\n",
       "      <th>title</th>\n",
       "      <th>link</th>\n",
       "      <th>organiser</th>\n",
       "      <th>date</th>\n",
       "      <th>day</th>\n",
       "      <th>time</th>\n",
       "      <th>address</th>\n",
       "    </tr>\n",
       "  </thead>\n",
       "  <tbody>\n",
       "    <tr>\n",
       "      <th>0</th>\n",
       "      <td>category_test</td>\n",
       "      <td>title_text</td>\n",
       "      <td>link_text</td>\n",
       "      <td>organiser_text</td>\n",
       "      <td>date_text</td>\n",
       "      <td>day_text</td>\n",
       "      <td>time_text</td>\n",
       "      <td>address_text</td>\n",
       "    </tr>\n",
       "  </tbody>\n",
       "</table>\n",
       "</div>"
      ],
      "text/plain": [
       "        category       title       link       organiser       date       day  \\\n",
       "0  category_test  title_text  link_text  organiser_text  date_text  day_text   \n",
       "\n",
       "        time       address  \n",
       "0  time_text  address_text  "
      ]
     },
     "execution_count": 56,
     "metadata": {},
     "output_type": "execute_result"
    }
   ],
   "source": [
    "df_update"
   ]
  },
  {
   "cell_type": "code",
   "execution_count": null,
   "metadata": {},
   "outputs": [],
   "source": [
    "df_update.to_sql('data', con=engine, if_exists=\"append\", index=False)"
   ]
  }
 ],
 "metadata": {
  "kernelspec": {
   "display_name": "Python 3.8.5 ('tensorflow-gpu')",
   "language": "python",
   "name": "python3"
  },
  "language_info": {
   "codemirror_mode": {
    "name": "ipython",
    "version": 3
   },
   "file_extension": ".py",
   "mimetype": "text/x-python",
   "name": "python",
   "nbconvert_exporter": "python",
   "pygments_lexer": "ipython3",
   "version": "3.8.5"
  },
  "orig_nbformat": 4,
  "vscode": {
   "interpreter": {
    "hash": "eb5db5e69cbba06ac89a1590ec73231baad4b2563d81e8260f8e57174d6de7b8"
   }
  }
 },
 "nbformat": 4,
 "nbformat_minor": 2
}

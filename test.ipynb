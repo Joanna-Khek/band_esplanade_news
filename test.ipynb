{
 "cells": [
  {
   "cell_type": "code",
   "execution_count": 1,
   "metadata": {},
   "outputs": [],
   "source": [
    "from sqlalchemy import create_engine \n",
    "from dotenv import load_dotenv\n",
    "import os\n",
    "import pandas as pd\n",
    "import psycopg2\n",
    "\n",
    "load_dotenv()\n",
    "\n",
    "DATABASE_URL = os.getenv(\"DATABASE_URL\")\n",
    "if DATABASE_URL and DATABASE_URL.startswith(\"postgres://\"):\n",
    "    DATABASE_URL = DATABASE_URL.replace(\"postgres://\", \"postgresql://\", 1)\n",
    "    \n",
    "engine = create_engine(DATABASE_URL, echo = False)\n"
   ]
  },
  {
   "cell_type": "code",
   "execution_count": 6,
   "metadata": {},
   "outputs": [
    {
     "data": {
      "text/plain": [
       "42"
      ]
     },
     "execution_count": 6,
     "metadata": {},
     "output_type": "execute_result"
    }
   ],
   "source": [
    "df = pd.read_csv(\"output.csv\", index_col=0)\n",
    "\n",
    "df.to_sql('data', con=engine, if_exists=\"append\")\n"
   ]
  },
  {
   "cell_type": "code",
   "execution_count": 7,
   "metadata": {},
   "outputs": [],
   "source": [
    "query = f\"\"\"SELECT * FROM data\"\"\""
   ]
  },
  {
   "cell_type": "code",
   "execution_count": 8,
   "metadata": {},
   "outputs": [],
   "source": [
    "import psycopg2\n",
    "\n",
    "con = psycopg2.connect(DATABASE_URL)\n",
    "cur = con.cursor()"
   ]
  },
  {
   "cell_type": "code",
   "execution_count": 12,
   "metadata": {},
   "outputs": [],
   "source": [
    "test_data = pd.read_csv(\"output.csv\", index_col=0)"
   ]
  },
  {
   "cell_type": "code",
   "execution_count": 20,
   "metadata": {},
   "outputs": [],
   "source": [
    "test_data = test_data.head(20)"
   ]
  },
  {
   "cell_type": "code",
   "execution_count": 21,
   "metadata": {},
   "outputs": [],
   "source": [
    "def check_update(df, new_titles, con):\n",
    "    query = f\"\"\"SELECT * FROM data\"\"\"\n",
    "    old_title = list(pd.read_sql(query, con).loc[:,\"title\"])\n",
    "    print(\"Number of old titles: {}\".format(len(old_title)))\n",
    "    for title in list(df[\"title\"]):\n",
    "        if title not in old_title:\n",
    "            new_titles.append(title)\n",
    "    print(\"Number of new new titles: {}\".format(len(new_titles)))\n",
    "    return new_titles"
   ]
  },
  {
   "cell_type": "code",
   "execution_count": null,
   "metadata": {},
   "outputs": [],
   "source": [
    "new_titles = []\n",
    "check_update(test_data, new_titles, con)"
   ]
  },
  {
   "cell_type": "code",
   "execution_count": 11,
   "metadata": {},
   "outputs": [
    {
     "name": "stderr",
     "output_type": "stream",
     "text": [
      "c:\\Users\\joann\\Anaconda3\\envs\\tensorflow-gpu\\lib\\site-packages\\pandas\\io\\sql.py:761: UserWarning: pandas only support SQLAlchemy connectable(engine/connection) ordatabase string URI or sqlite3 DBAPI2 connectionother DBAPI2 objects are not tested, please consider using SQLAlchemy\n",
      "  warnings.warn(\n"
     ]
    },
    {
     "data": {
      "text/plain": [
       "['BreatheWater',\n",
       " 'Friction of Distance',\n",
       " 'loop / pool',\n",
       " 'Sender of Wishes',\n",
       " 'Contemporary Performing Arts Research Residency Public Programmes',\n",
       " 'Evolving Currents',\n",
       " 'Send a Wish',\n",
       " 'The Being: Dua Diriku',\n",
       " 'Common Thread: Words and Music with Jennifer Anne Champion and Anson Fung',\n",
       " 'The Daydreamer',\n",
       " 'Evolving Currents Artist Talk',\n",
       " 'Castanets Workshop',\n",
       " 'Dialogue',\n",
       " 'ANTARMUKA',\n",
       " 'Tour of loop / pool',\n",
       " 'Tour of Evolving Currents',\n",
       " 'Musical Duos of Shakuhachi and Di Xiao',\n",
       " 'MOTUS.SG',\n",
       " 'What Can You Be? the world is your oyster',\n",
       " 'Love. Land. Life.',\n",
       " 'Ardwinda',\n",
       " 'Music Cousins',\n",
       " 'Rock and Pullu',\n",
       " 'Dance at Dusk',\n",
       " 'When Worlds Collide',\n",
       " 'SEE?',\n",
       " 'Fascinating Rhythm',\n",
       " 'Lotus Fugue',\n",
       " 'Date Night Friday: The PLF Connection',\n",
       " 'Anson Fung Guitar Trio ft. Namie Rasman',\n",
       " 'The Simplicius Cheong Quartet',\n",
       " 'Jazz 101: Tony Makarome',\n",
       " 'Big Band Sunday: Thomson Big Band',\n",
       " 'Free Jazz: Firewater',\n",
       " 'Something Old, Something New',\n",
       " 'Em Saxophone Quartet',\n",
       " 'MT Trio',\n",
       " 'Blue Monks',\n",
       " 'Recipes for Wayfinding (Care Index) Installation',\n",
       " 'In Their Own Words: Writing Verbatim Plays',\n",
       " 'Performing Grief',\n",
       " 'In Conversation: And So The Conversations Continue…']"
      ]
     },
     "execution_count": 11,
     "metadata": {},
     "output_type": "execute_result"
    }
   ],
   "source": [
    "list(pd.read_sql(query, con).loc[:,\"title\"])"
   ]
  },
  {
   "cell_type": "code",
   "execution_count": null,
   "metadata": {},
   "outputs": [],
   "source": []
  }
 ],
 "metadata": {
  "kernelspec": {
   "display_name": "Python 3.8.5 ('tensorflow-gpu')",
   "language": "python",
   "name": "python3"
  },
  "language_info": {
   "codemirror_mode": {
    "name": "ipython",
    "version": 3
   },
   "file_extension": ".py",
   "mimetype": "text/x-python",
   "name": "python",
   "nbconvert_exporter": "python",
   "pygments_lexer": "ipython3",
   "version": "3.8.5"
  },
  "orig_nbformat": 4,
  "vscode": {
   "interpreter": {
    "hash": "eb5db5e69cbba06ac89a1590ec73231baad4b2563d81e8260f8e57174d6de7b8"
   }
  }
 },
 "nbformat": 4,
 "nbformat_minor": 2
}
